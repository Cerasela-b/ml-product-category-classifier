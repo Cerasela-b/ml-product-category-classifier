{
  "nbformat": 4,
  "nbformat_minor": 0,
  "metadata": {
    "colab": {
      "provenance": [],
      "authorship_tag": "ABX9TyNnrgpqFZXY6VqXuqR5fHUX",
      "include_colab_link": true
    },
    "kernelspec": {
      "name": "python3",
      "display_name": "Python 3"
    },
    "language_info": {
      "name": "python"
    }
  },
  "cells": [
    {
      "cell_type": "markdown",
      "metadata": {
        "id": "view-in-github",
        "colab_type": "text"
      },
      "source": [
        "<a href=\"https://colab.research.google.com/github/Cerasela-b/ml-product-category-classifier/blob/main/notebook/category_classifier_analysis.ipynb\" target=\"_parent\"><img src=\"https://colab.research.google.com/assets/colab-badge.svg\" alt=\"Open In Colab\"/></a>"
      ]
    },
    {
      "cell_type": "markdown",
      "source": [
        "## Loading and Inspecting the Dataset\n",
        "\n",
        "In order to understand the data we need to explore its structure.\n",
        "\n",
        "In this step, we will:\n",
        "\n",
        "- Load the CSV file from the available source GitHub\n",
        "\n",
        "- Check how many rows and columns the dataset contains\n",
        "\n",
        "- Display the first few rows to get an initial view of the data\n",
        "\n",
        "- Review the data types and basic metadata for each column"
      ],
      "metadata": {
        "id": "QgQM7IRNG_Va"
      }
    },
    {
      "cell_type": "code",
      "source": [
        "import pandas as pd\n",
        "\n",
        "# load dataset from GitHub\n",
        "url = \"https://raw.githubusercontent.com/Cerasela-b/ml-product-category-classifier/main/data/products.csv\"\n",
        "df = pd.read_csv(url)\n",
        "\n",
        "# Print shape (number of rows and columns)\n",
        "print(\"Dataset shape (rows, columns):\", df.shape)\n",
        "\n",
        "print(\"\\nFirst 5 rows:\")\n",
        "print(df.head())\n",
        "\n",
        "# Show column data types and non-null counts\n",
        "print(\"\\nDataset info:\")\n",
        "df.info()"
      ],
      "metadata": {
        "colab": {
          "base_uri": "https://localhost:8080/"
        },
        "id": "TSmechNSHq8Q",
        "outputId": "fac73cc1-347c-4dff-a236-7fa11dc8ffac"
      },
      "execution_count": 2,
      "outputs": [
        {
          "output_type": "stream",
          "name": "stdout",
          "text": [
            "Dataset shape (rows, columns): (35311, 8)\n",
            "\n",
            "First 5 rows:\n",
            "   product ID                                      Product Title  Merchant ID  \\\n",
            "0           1                    apple iphone 8 plus 64gb silver            1   \n",
            "1           2                apple iphone 8 plus 64 gb spacegrau            2   \n",
            "2           3  apple mq8n2b/a iphone 8 plus 64gb 5.5 12mp sim...            3   \n",
            "3           4                apple iphone 8 plus 64gb space grey            4   \n",
            "4           5  apple iphone 8 plus gold 5.5 64gb 4g unlocked ...            5   \n",
            "\n",
            "   Category Label _Product Code  Number_of_Views  Merchant Rating  \\\n",
            "0   Mobile Phones    QA-2276-XC            860.0              2.5   \n",
            "1   Mobile Phones    KA-2501-QO           3772.0              4.8   \n",
            "2   Mobile Phones    FP-8086-IE           3092.0              3.9   \n",
            "3   Mobile Phones    YI-0086-US            466.0              3.4   \n",
            "4   Mobile Phones    NZ-3586-WP           4426.0              1.6   \n",
            "\n",
            "   Listing Date    \n",
            "0       5/10/2024  \n",
            "1      12/31/2024  \n",
            "2      11/10/2024  \n",
            "3        5/2/2022  \n",
            "4       4/12/2023  \n",
            "\n",
            "Dataset info:\n",
            "<class 'pandas.core.frame.DataFrame'>\n",
            "RangeIndex: 35311 entries, 0 to 35310\n",
            "Data columns (total 8 columns):\n",
            " #   Column           Non-Null Count  Dtype  \n",
            "---  ------           --------------  -----  \n",
            " 0   product ID       35311 non-null  int64  \n",
            " 1   Product Title    35139 non-null  object \n",
            " 2   Merchant ID      35311 non-null  int64  \n",
            " 3    Category Label  35267 non-null  object \n",
            " 4   _Product Code    35216 non-null  object \n",
            " 5   Number_of_Views  35297 non-null  float64\n",
            " 6   Merchant Rating  35141 non-null  float64\n",
            " 7    Listing Date    35252 non-null  object \n",
            "dtypes: float64(2), int64(2), object(4)\n",
            "memory usage: 2.2+ MB\n"
          ]
        }
      ]
    },
    {
      "cell_type": "markdown",
      "source": [
        "### Observations\n",
        "\n",
        "Here we see inconsisteny of column names, wee need to change that. We will have all column names written with upper first letter and we will remove `_` and spaces.\n"
      ],
      "metadata": {
        "id": "9GqEdV7twmC4"
      }
    },
    {
      "cell_type": "markdown",
      "source": [
        "## Missing Values Check\n",
        "\n",
        "Checking for missing values is essential because they can bias results or reduce model performance.\n",
        "\n",
        "We will:\n",
        "\n",
        "- Identify missing values – count missing entries per column.\n",
        "\n",
        "- Analyze patterns – check if missingness is random or systematic.\n",
        "\n",
        "- Decide handling strategy – impute, remove, or use models that handle missing data.\n",
        "- Visualize missing values using a heatmap\n",
        "\n",
        "Proper handling of missing values ensures reliable analysis and accurate conclusions."
      ],
      "metadata": {
        "id": "8GN9U3gJy3By"
      }
    },
    {
      "cell_type": "code",
      "source": [
        "\n",
        "# Count missing values per column\n",
        "print(\"Missing values per column:\")\n",
        "print(df.isna().sum())"
      ],
      "metadata": {
        "colab": {
          "base_uri": "https://localhost:8080/"
        },
        "id": "ZBV9nVwXzNJ2",
        "outputId": "8f2a1275-ae0c-41ac-caec-1b41015494fb"
      },
      "execution_count": 3,
      "outputs": [
        {
          "output_type": "stream",
          "name": "stdout",
          "text": [
            "Missing values per column:\n",
            "product ID           0\n",
            "Product Title      172\n",
            "Merchant ID          0\n",
            " Category Label     44\n",
            "_Product Code       95\n",
            "Number_of_Views     14\n",
            "Merchant Rating    170\n",
            " Listing Date       59\n",
            "dtype: int64\n"
          ]
        }
      ]
    },
    {
      "cell_type": "code",
      "source": [
        "# Visualize missing data with seaborn heatmap\n",
        "import seaborn as sns\n",
        "import matplotlib.pyplot as plt\n",
        "\n",
        "plt.figure(figsize=(10, 5))\n",
        "sns.heatmap(df.isna(), cbar=False, cmap =\"YlOrRd\")\n",
        "plt.title(\"Missing Values Heatmap\")\n",
        "plt.show()\n",
        ""
      ],
      "metadata": {
        "colab": {
          "base_uri": "https://localhost:8080/",
          "height": 577
        },
        "id": "oyxE5AsWzvVk",
        "outputId": "a0b242b1-2516-4f22-afd9-0a781da4f7c2"
      },
      "execution_count": 4,
      "outputs": [
        {
          "output_type": "display_data",
          "data": {
            "text/plain": [
              "<Figure size 1000x500 with 1 Axes>"
            ],
            "image/png": "[encoded data removed]"
          },
          "metadata": {}
        }
      ]
    },
    {
      "cell_type": "code",
      "source": [
        "# Visualize missing data per column using barplot\n",
        "missing_percent = df.isna().mean() * 100\n",
        "missing_percent = missing_percent[missing_percent > 0].sort_values(ascending=False)\n",
        "\n",
        "plt.figure(figsize=(10,5))\n",
        "sns.barplot(x=missing_percent.index, y=missing_percent.values, color=\"skyblue\")\n",
        "plt.xlabel(\"Columns\")\n",
        "plt.ylabel(\"Missing Values (%)\")\n",
        "plt.title(\"Percentage of Missing Values per Column\")\n",
        "plt.xticks(rotation=45)\n",
        "\n",
        "\n",
        "\n",
        "plt.tight_layout()\n",
        "plt.show()"
      ],
      "metadata": {
        "colab": {
          "base_uri": "https://localhost:8080/",
          "height": 507
        },
        "id": "bdKvGQ0W0XsU",
        "outputId": "49ca5545-0335-45ff-d22c-43b8f271762d"
      },
      "execution_count": 5,
      "outputs": [
        {
          "output_type": "display_data",
          "data": {
            "text/plain": [
              "<Figure size 1000x500 with 1 Axes>"
            ],
            "image/png": "[encoded data removed]"
          },
          "metadata": {}
        }
      ]
    },
    {
      "cell_type": "markdown",
      "source": [
        "## Category analysis\n",
        "\n",
        "In this step we will analize which category we have and if there are any inconsistensies in the category type\n"
      ],
      "metadata": {
        "id": "Jt2bPkSX3Yt5"
      }
    },
    {
      "cell_type": "code",
      "source": [
        "# Count occurrences of each category label\n",
        "category_counts = df[' Category Label'].value_counts()\n",
        "\n",
        "# Print counts\n",
        "print(\"Category distribution (counts):\")\n",
        "print(category_counts)"
      ],
      "metadata": {
        "colab": {
          "base_uri": "https://localhost:8080/"
        },
        "id": "SGUswir3Q4dj",
        "outputId": "c9fd703f-618e-4a93-b4ce-76c7323765c4"
      },
      "execution_count": 6,
      "outputs": [
        {
          "output_type": "stream",
          "name": "stdout",
          "text": [
            "Category distribution (counts):\n",
            " Category Label\n",
            "Fridge Freezers     5495\n",
            "Washing Machines    4036\n",
            "Mobile Phones       4020\n",
            "CPUs                3771\n",
            "TVs                 3564\n",
            "Fridges             3457\n",
            "Dishwashers         3418\n",
            "Digital Cameras     2696\n",
            "Microwaves          2338\n",
            "Freezers            2210\n",
            "fridge               123\n",
            "CPU                   84\n",
            "Mobile Phone          55\n",
            "Name: count, dtype: int64\n"
          ]
        }
      ]
    },
    {
      "cell_type": "markdown",
      "source": [
        "## Exploring the `Product Title` column\n",
        "\n",
        "The `Product Title` column is one of the key textual features that will be used to train the model.\n",
        "Before using it, we need to ensure that the data is clean, consistent, and ready for modeling.\n",
        "\n",
        "In this section, we will:\n",
        "\n",
        "- Examine the data type of the `Product Title` column,\n",
        "\n",
        "- Preview a few sample titles to understand the structure of the text,\n",
        "\n",
        "- Identify common patterns and inconsistencies in naming (e.g., color variations, spacing, extra codes),\n",
        "\n",
        "- Detect potential noise such as unnecessary symbols, model numbers, or language mix-ups,\n",
        "\n",
        "- Prepare the text for cleaning and normalization to ensure consistency before model training."
      ],
      "metadata": {
        "id": "hcftPlgTT1TX"
      }
    },
    {
      "cell_type": "code",
      "source": [
        "# 1. Check the data type of the 'Product Title' column\n",
        "print(\"Data type of Product Title column:\", df['Product Title'].dtype)\n",
        "\n",
        "# 2. Display the first 20 values from the column\n",
        "print(\"\\nFirst 20 values in Product Title column:\")\n",
        "print(df['Product Title'].head(20))\n",
        "\n",
        "# 3. Show the 20 most frequent values in the column\n",
        "print(\"\\nTop 20 most frequent values in Product Title column:\")\n",
        "print(df['Product Title'].value_counts().head(20))\n",
        "\n",
        "# 4. Basic text length analysis\n",
        "print(\"\\n Text length statistics:\")\n",
        "print(df['Product Title'].str.len().describe())"
      ],
      "metadata": {
        "colab": {
          "base_uri": "https://localhost:8080/"
        },
        "id": "TKtg0nduTzAc",
        "outputId": "fbd989be-34d1-4208-da65-e8a0597cc200"
      },
      "execution_count": 7,
      "outputs": [
        {
          "output_type": "stream",
          "name": "stdout",
          "text": [
            "Data type of Product Title column: object\n",
            "\n",
            "First 20 values in Product Title column:\n",
            "0                       apple iphone 8 plus 64gb silver\n",
            "1                   apple iphone 8 plus 64 gb spacegrau\n",
            "2     apple mq8n2b/a iphone 8 plus 64gb 5.5 12mp sim...\n",
            "3                   apple iphone 8 plus 64gb space grey\n",
            "4     apple iphone 8 plus gold 5.5 64gb 4g unlocked ...\n",
            "5     apple iphone 8 plus gold 5.5 64gb 4g unlocked ...\n",
            "6                  apple iphone 8 plus 64 gb space grey\n",
            "7                   apple iphone 8 plus 64gb space grey\n",
            "8                   apple iphone 8 plus 64gb space grey\n",
            "9                   apple iphone 8 plus 64gb space grey\n",
            "10    apple iphone 8 plus 5.5 single sim 4g 64gb silver\n",
            "11      sim free iphone 8 plus 64gb by apple space grey\n",
            "12             apple iphone 8 plus 64gb gold smartphone\n",
            "13      apple iphone 8 plus 5.5 single sim 4g 64gb grey\n",
            "14    apple iphone 8 plus silver 5.5 64gb 4g unlocke...\n",
            "15                     apple iphone 8 plus 64 gb silver\n",
            "16             apple iphone 8 plus 64gb silver unlocked\n",
            "17    apple iphone 8 plus 14 cm 5.5 64 gb 12 mp ios ...\n",
            "18    iphone 8 plus sim free water dust resistant 64...\n",
            "19                        iphone 8 plus 64gb space grey\n",
            "Name: Product Title, dtype: object\n",
            "\n",
            "Top 20 most frequent values in Product Title column:\n",
            "Product Title\n",
            "washing machine                                                           90\n",
            "built in fully integrated dishwasher                                      35\n",
            "frost free fridge freezer                                                 34\n",
            "washer dryer                                                              24\n",
            "american fridge freezer                                                   21\n",
            "static integrated fridge freezer                                          18\n",
            "static fridge freezer                                                     17\n",
            "built in semi integrated dishwasher                                       15\n",
            "hp intel xeon quad core e5506 2.13ghz fio kit 2.13ghz 4mb l2              13\n",
            "1400rpm washing machine 9kg load class a white                            11\n",
            "frost free integrated fridge freezer                                      11\n",
            "1400rpm washing machine 8kg load class a white                            11\n",
            "hewlett packard enterprise intel xeon e5 2630l 2ghz 15mb l3 processor     10\n",
            "hewlett packard enterprise intel xeon e5 2680 2.7ghz 20mb l3 processor     9\n",
            "hp intel xeon l5506 fio kit 2.13ghz 4mb l3 processor                       9\n",
            "integrated washing machine                                                 9\n",
            "hp amd opteron six core 8431 2.4ghz fio kit 2.4ghz 6mb l3 processor        9\n",
            "hewlett packard enterprise intel xeon x5670 2.93ghz 12mb l3 processor      9\n",
            "hp amd opteron six core 8425 he 2.1ghz fio kit 2.1ghz 6mb l3 processor     9\n",
            "built in larder fridge                                                     9\n",
            "Name: count, dtype: int64\n",
            "\n",
            " Text length statistics:\n",
            "count    35139.000000\n",
            "mean        52.981701\n",
            "std         22.438310\n",
            "min          5.000000\n",
            "25%         38.500000\n",
            "50%         52.000000\n",
            "75%         65.000000\n",
            "max        200.000000\n",
            "Name: Product Title, dtype: float64\n"
          ]
        }
      ]
    },
    {
      "cell_type": "markdown",
      "source": [
        "## Standardizing the column names\n",
        "\n",
        "In this step, we will clean and standardize the column names to make them more consistent and readable.\n",
        "We will:\n",
        "\n",
        "- Remove unnecessary spaces at the beginning or end of the column names,\n",
        "\n",
        "- Replace underscores (_) with spaces,\n",
        "\n",
        "- Capitalize each word.\n",
        "\n",
        "This will make the dataset easier to read and work with in later analysis steps."
      ],
      "metadata": {
        "id": "xcM9P3IvYqpk"
      }
    },
    {
      "cell_type": "code",
      "source": [
        "# Standardize column names\n",
        "\n",
        "import re\n",
        "\n",
        "def clean_column_name(col):\n",
        "    col = col.strip()                     # remove leading/trailing spaces\n",
        "    col = col.replace('_', ' ')           # replace underscores with spaces\n",
        "    # Insert space before a capital letter if previous is lowercase\n",
        "    col = re.sub(r'(?<=[a-z])(?=[A-Z])', ' ', col)\n",
        "    col = re.sub(r'\\s+', ' ', col)       # replace multiple spaces with single\n",
        "    col = col.title()                     # capitalize each word\n",
        "    col = col.replace('Id', 'ID')         # keep 'ID' uppercase\n",
        "    return col\n",
        "\n",
        "df.columns = [clean_column_name(c) for c in df.columns]\n",
        "# Preview the cleaned column names\n",
        "print(\"Cleaned column names:\")\n",
        "print(df.columns.tolist())\n"
      ],
      "metadata": {
        "colab": {
          "base_uri": "https://localhost:8080/"
        },
        "id": "eQ-eAytSZp97",
        "outputId": "22301029-0b88-4070-f910-8c5d85eee0bc"
      },
      "execution_count": 8,
      "outputs": [
        {
          "output_type": "stream",
          "name": "stdout",
          "text": [
            "Cleaned column names:\n",
            "['Product ID', 'Product Title', 'Merchant ID', 'Category Label', ' Product Code', 'Number Of Views', 'Merchant Rating', 'Listing Date']\n"
          ]
        }
      ]
    },
    {
      "cell_type": "markdown",
      "source": [
        "## Removing Missing Values\n",
        "\n",
        "During the initial inspection, we noticed that some columns contain missing values.\n",
        "Missing data can cause problems during model training, potentially leading to errors or biased results.\n",
        "\n",
        "In this step, we will:\n",
        "\n",
        "- Remove rows that contain missing values,\n",
        "\n",
        "- Check the new shape of the dataset after cleaning.\n",
        "\n",
        "This ensures that our dataset is complete and ready for further analysis and model training."
      ],
      "metadata": {
        "id": "cMyKWq4adGFc"
      }
    },
    {
      "cell_type": "code",
      "source": [
        "# Before removing missing values\n",
        "print(\"Shape before removing missing values:\", df.shape)\n",
        "\n",
        "# Remove rows with any missing values\n",
        "df = df.dropna()\n",
        "\n",
        "# After removing missing values\n",
        "print(\"Shape after removing missing values:\", df.shape)\n",
        "\n",
        "# Count missing values per column\n",
        "print(\"Missing values per column:\")\n",
        "print(df.isna().sum())\n"
      ],
      "metadata": {
        "colab": {
          "base_uri": "https://localhost:8080/"
        },
        "id": "fx-C8zBgdqeG",
        "outputId": "52986e5d-aa98-4462-d4a5-17cb80d8c104"
      },
      "execution_count": 9,
      "outputs": [
        {
          "output_type": "stream",
          "name": "stdout",
          "text": [
            "Shape before removing missing values: (35311, 8)\n",
            "Shape after removing missing values: (34760, 8)\n",
            "Missing values per column:\n",
            "Product ID         0\n",
            "Product Title      0\n",
            "Merchant ID        0\n",
            "Category Label     0\n",
            " Product Code      0\n",
            "Number Of Views    0\n",
            "Merchant Rating    0\n",
            "Listing Date       0\n",
            "dtype: int64\n"
          ]
        }
      ]
    },
    {
      "cell_type": "markdown",
      "source": [
        "## Standardizing `Category Label`\n",
        "\n",
        "In the previous step, we observed that the `Category Label` column contains inconsistent category names.\n",
        "For example:\n",
        "\n",
        "- fridge vs Fridges vs Fridge Freezers\n",
        "\n",
        "- Mobile Phone vs Mobile Phones\n",
        "\n",
        "- CPU vs CPUs\n",
        "\n",
        "These inconsistencies can cause issues during analysis or modeling, such as splitting similar products into separate groups.\n",
        "\n",
        "In this step, we will:\n",
        "\n",
        "- Map similar categories to a single standard name (e.g., fridge → Fridges, CPU → CPUs).\n",
        "\n",
        "- Remove extra spaces and apply consistent capitalization.\n",
        "\n",
        "- Verify the cleaned category distribution to ensure all categories are standardized.\n",
        "- Visualize the categories after cleaning\n",
        "\n",
        "This ensures that our category data is clean, consistent, and ready for analysis or model training."
      ],
      "metadata": {
        "id": "wYzu-BwUfkVi"
      }
    },
    {
      "cell_type": "code",
      "source": [
        "# Define a mapping to standardize categories\n",
        "category_mapping = {\n",
        "    'fridge': 'Fridges',\n",
        "    'Fridge Freezers': 'Fridge Freezers',\n",
        "    'Fridges': 'Fridge Freezers',\n",
        "    'Mobile Phone': 'Mobile Phones',\n",
        "    'CPUs': 'CPUs',\n",
        "    'CPU': 'CPUs',\n",
        "    # Add more mappings if needed\n",
        "}\n",
        "\n",
        "# Apply the mapping\n",
        "df['Category Label'] = df['Category Label'].replace(category_mapping)\n",
        "\n",
        "# Strip extra spaces and capitalize consistently\n",
        "df['Category Label'] = df['Category Label'].str.strip().str.title()\n",
        "\n",
        "# Convert column type to 'category'\n",
        "df['Category Label'] = df['Category Label'].astype('category')\n",
        "print(\"Category Label type after converting:\",df['Category Label'].dtype)\n",
        "\n",
        "\n",
        "# View the cleaned category distribution\n",
        "print(\"\\nCategory distribution after cleaning:\")\n",
        "print(df['Category Label'].value_counts())"
      ],
      "metadata": {
        "colab": {
          "base_uri": "https://localhost:8080/"
        },
        "id": "-D0KiPnFfk_J",
        "outputId": "221ee3dc-a7f0-4f74-bc9b-6efc8418343e"
      },
      "execution_count": 18,
      "outputs": [
        {
          "output_type": "stream",
          "name": "stdout",
          "text": [
            "Category Label type after converting: category\n",
            "\n",
            "Category distribution after cleaning:\n",
            "Category Label\n",
            "Fridge Freezers     8948\n",
            "Mobile Phones       4023\n",
            "Washing Machines    3971\n",
            "Cpus                3792\n",
            "Tvs                 3502\n",
            "Dishwashers         3374\n",
            "Digital Cameras     2661\n",
            "Microwaves          2307\n",
            "Freezers            2182\n",
            "Name: count, dtype: int64\n"
          ]
        }
      ]
    },
    {
      "cell_type": "code",
      "source": [
        "# Visualization of the categories after cleaning\n",
        "# Calculate category counts\n",
        "category_counts = df['Category Label'].value_counts()\n",
        "\n",
        "# Set plot style\n",
        "sns.set_style(\"whitegrid\")\n",
        "\n",
        "# Create the bar plot\n",
        "plt.figure(figsize=(12,6))\n",
        "sns.barplot(x=category_counts.index, y=category_counts.values, color=\"steelblue\")\n",
        "plt.xticks(rotation=45, ha='right')\n",
        "plt.ylabel(\"Number of Products\")\n",
        "plt.xlabel(\"Category\")\n",
        "plt.title(\"Distribution of Product Categories After Cleaning\")\n",
        "plt.tight_layout()\n",
        "\n",
        "# Show plot\n",
        "plt.show()"
      ],
      "metadata": {
        "colab": {
          "base_uri": "https://localhost:8080/",
          "height": 607
        },
        "id": "3bGlt0jdhGg2",
        "outputId": "c6ecbbc1-2323-42bb-de73-14262cc8c5fb"
      },
      "execution_count": 11,
      "outputs": [
        {
          "output_type": "display_data",
          "data": {
            "text/plain": [
              "<Figure size 1200x600 with 1 Axes>"
            ],
            "image/png": "[encoded data removed]"
          },
          "metadata": {}
        }
      ]
    },
    {
      "cell_type": "markdown",
      "source": [
        "## **Product Title** Cleaning and Standardization\n",
        "\n",
        "In this step, we cleaned and standardized the `Product Title` column to ensure consistency and prepare the text data for modeling.\n",
        "Product titles often contain inconsistent formatting, special characters, extra spaces, and unnecessary codes — all of which can negatively impact text-based models.\n",
        "\n",
        "Steps Performed:\n",
        "\n",
        "- Copied the original dataset to keep the raw data intact for reference.\n",
        "\n",
        "- Converted all text to lowercase to eliminate case sensitivity issues.\n",
        "\n",
        "- Removed leading, trailing, and multiple spaces to normalize spacing between words.\n",
        "\n",
        "- Removed special characters (e.g., /, -, ,, (), etc.), keeping only letters, numbers, and spaces.\n",
        "\n",
        "- Standardized common expressions such as:\n",
        "\n",
        "  - \"spacegrey\" → \"space grey\"\n",
        "\n",
        "  - \"64 gb\" → \"64gb\"\n",
        "\n",
        "  - \"128 gb\" → \"128gb\"\n",
        "\n",
        "\n",
        "- Removed product codes and identifiers (e.g., mq8n2b/a) using regex patterns.\n",
        "\n",
        "- Cleaned up any leftover multiple spaces after replacements.\n",
        "\n",
        "- Ensured no titles start with spaces by applying a final lstrip() cleanup.\n",
        "\n",
        "- Removed empty titles, if any, to avoid null or meaningless entries.\n",
        "\n",
        "- Verified the results by printing the first 20 cleaned titles and checking that none start with spaces.\n",
        "\n",
        "\n",
        "The `Product Title` column is now fully standardized — clean, lowercase, space-normalized, and ready for text vectorization.\n"
      ],
      "metadata": {
        "id": "ttVecWIWipIb"
      }
    },
    {
      "cell_type": "code",
      "source": [
        "# Make a copy to keep original data safe\n",
        "df_clean = df.copy()\n",
        "\n",
        "# Lowercase all text\n",
        "df_clean['Product Title'] = df_clean['Product Title'].str.lower()\n",
        "\n",
        "# Remove leading/trailing spaces and multiple spaces\n",
        "df_clean['Product Title'] = df_clean['Product Title'].str.strip()      # leading/trailing\n",
        "df_clean['Product Title'] = df_clean['Product Title'].str.replace(r'\\s+', ' ', regex=True)  # multiple spaces\n",
        "\n",
        "# Remove special characters (keep letters, numbers, spaces)\n",
        "df_clean['Product Title'] = df_clean['Product Title'].str.replace(r'[^a-z0-9\\s]', '', regex=True)\n",
        "\n",
        "# Standardize common terms\n",
        "df_clean['Product Title'] = df_clean['Product Title'].str.replace('spacegrey', 'space grey')\n",
        "df_clean['Product Title'] = df_clean['Product Title'].str.replace('64 gb', '64gb')\n",
        "df_clean['Product Title'] = df_clean['Product Title'].str.replace('128 gb', '128gb')\n",
        "# Add more replacements as needed\n",
        "\n",
        "# Optional: remove technical codes like mq8n2b/a\n",
        "df_clean['Product Title'] = df_clean['Product Title'].str.replace(r'\\b[a-z0-9]{4,}/[a-z0-9]{1,}\\b', '', regex=True)\n",
        "\n",
        "# Remove extra spaces again after replacements\n",
        "df_clean['Product Title'] = df_clean['Product Title'].str.replace(r'\\s+', ' ', regex=True)\n",
        "\n",
        "# Remove any remaining leading spaces (safe step)\n",
        "df_clean['Product Title'] = df_clean['Product Title'].str.lstrip()\n",
        "\n",
        "# Remove empty titles\n",
        "df_clean = df_clean[df_clean['Product Title'].str.strip() != \"\"]\n",
        "\n",
        "# Count how many titles start with a space\n",
        "print(\"Titles starting with space:\", df_clean['Product Title'].str.startswith(' ').sum())\n",
        "\n",
        "# Show examples if any\n",
        "df_clean[df_clean['Product Title'].str.startswith(' ')].head()\n",
        "\n",
        "# Preview cleaned Product Titles\n",
        "for i, title in enumerate(df_clean['Product Title'].head(20)):\n",
        "    print(f\"{i:<3} | {title}\")\n",
        "\n"
      ],
      "metadata": {
        "colab": {
          "base_uri": "https://localhost:8080/"
        },
        "id": "k04kmiZhisIJ",
        "outputId": "c706e31b-9906-4018-b597-8db9ad3e68e0"
      },
      "execution_count": 13,
      "outputs": [
        {
          "output_type": "stream",
          "name": "stdout",
          "text": [
            "Titles starting with space: 0\n",
            "0   | apple iphone 8 plus 64gb silver\n",
            "1   | apple iphone 8 plus 64gb spacegrau\n",
            "2   | apple mq8n2ba iphone 8 plus 64gb 55 12mp sim free smartphone in gold\n",
            "3   | apple iphone 8 plus 64gb space grey\n",
            "4   | apple iphone 8 plus gold 55 64gb 4g unlocked sim free\n",
            "5   | apple iphone 8 plus gold 55 64gb 4g unlocked sim free\n",
            "6   | apple iphone 8 plus 64gb space grey\n",
            "7   | apple iphone 8 plus 64gb space grey\n",
            "8   | apple iphone 8 plus 64gb space grey\n",
            "9   | apple iphone 8 plus 64gb space grey\n",
            "10  | apple iphone 8 plus 55 single sim 4g 64gb silver\n",
            "11  | sim free iphone 8 plus 64gb by apple space grey\n",
            "12  | apple iphone 8 plus 64gb gold smartphone\n",
            "13  | apple iphone 8 plus 55 single sim 4g 64gb grey\n",
            "14  | apple iphone 8 plus silver 55 64gb 4g unlocked sim free\n",
            "15  | apple iphone 8 plus 64gb silver\n",
            "16  | apple iphone 8 plus 64gb silver unlocked\n",
            "17  | apple iphone 8 plus 14 cm 55 64gb 12 mp ios 11 silver\n",
            "18  | iphone 8 plus sim free water dust resistant 64gb silver by apple\n",
            "19  | iphone 8 plus 64gb space grey\n"
          ]
        }
      ]
    },
    {
      "cell_type": "markdown",
      "source": [
        "## Removing irrelevant columns\n",
        "\n",
        "Since our goal is to build a model that classifies products based on their titles,\n",
        "we will keep only the following columns:\n",
        "\n",
        "- **Product Title** – the text input used for training the model\n",
        "\n",
        "- **Category Label** – the target variable we want to predict\n",
        "\n",
        "All other columns (e.g., product or merchant identifiers, ratings, listing dates) do not contribute to this task and will be removed to simplify the dataset."
      ],
      "metadata": {
        "id": "gY3AM4HIXvsY"
      }
    },
    {
      "cell_type": "code",
      "source": [
        "# Keep only relevant columns\n",
        "df_model = df_clean[['Product Title', 'Category Label']].copy()\n",
        "\n",
        "# Check the new shape\n",
        "print(\"Dataset shape after column selection:\", df_model.shape)\n",
        "df_model.head(20)\n"
      ],
      "metadata": {
        "colab": {
          "base_uri": "https://localhost:8080/",
          "height": 694
        },
        "id": "2PQ9Wh-KYWkW",
        "outputId": "6305f54f-b038-4d95-d738-c07ae73a3923"
      },
      "execution_count": 21,
      "outputs": [
        {
          "output_type": "stream",
          "name": "stdout",
          "text": [
            "Dataset shape after column selection: (34760, 2)\n"
          ]
        },
        {
          "output_type": "execute_result",
          "data": {
            "text/plain": [
              "                                        Product Title Category Label\n",
              "0                     apple iphone 8 plus 64gb silver  Mobile Phones\n",
              "1                 apple iphone 8 plus 64 gb spacegrau  Mobile Phones\n",
              "2   apple mq8n2b/a iphone 8 plus 64gb 5.5 12mp sim...  Mobile Phones\n",
              "3                 apple iphone 8 plus 64gb space grey  Mobile Phones\n",
              "4   apple iphone 8 plus gold 5.5 64gb 4g unlocked ...  Mobile Phones\n",
              "5   apple iphone 8 plus gold 5.5 64gb 4g unlocked ...  Mobile Phones\n",
              "6                apple iphone 8 plus 64 gb space grey  Mobile Phones\n",
              "7                 apple iphone 8 plus 64gb space grey  Mobile Phones\n",
              "8                 apple iphone 8 plus 64gb space grey  Mobile Phones\n",
              "9                 apple iphone 8 plus 64gb space grey  Mobile Phones\n",
              "10  apple iphone 8 plus 5.5 single sim 4g 64gb silver  Mobile Phones\n",
              "11    sim free iphone 8 plus 64gb by apple space grey  Mobile Phones\n",
              "12           apple iphone 8 plus 64gb gold smartphone  Mobile Phones\n",
              "13    apple iphone 8 plus 5.5 single sim 4g 64gb grey  Mobile Phones\n",
              "14  apple iphone 8 plus silver 5.5 64gb 4g unlocke...  Mobile Phones\n",
              "15                   apple iphone 8 plus 64 gb silver  Mobile Phones\n",
              "16           apple iphone 8 plus 64gb silver unlocked  Mobile Phones\n",
              "17  apple iphone 8 plus 14 cm 5.5 64 gb 12 mp ios ...  Mobile Phones\n",
              "18  iphone 8 plus sim free water dust resistant 64...  Mobile Phones\n",
              "19                      iphone 8 plus 64gb space grey  Mobile Phones"
            ],
            "text/html": [
              "\n",
              "  <div id=\"df-42be88ab-1b06-419e-b3e7-2f0df2aaffc4\" class=\"colab-df-container\">\n",
              "    <div>\n",
              "<style scoped>\n",
              "    .dataframe tbody tr th:only-of-type {\n",
              "        vertical-align: middle;\n",
              "    }\n",
              "\n",
              "    .dataframe tbody tr th {\n",
              "        vertical-align: top;\n",
              "    }\n",
              "\n",
              "    .dataframe thead th {\n",
              "        text-align: right;\n",
              "    }\n",
              "</style>\n",
              "<table border=\"1\" class=\"dataframe\">\n",
              "  <thead>\n",
              "    <tr style=\"text-align: right;\">\n",
              "      <th></th>\n",
              "      <th>Product Title</th>\n",
              "      <th>Category Label</th>\n",
              "    </tr>\n",
              "  </thead>\n",
              "  <tbody>\n",
              "    <tr>\n",
              "      <th>0</th>\n",
              "      <td>apple iphone 8 plus 64gb silver</td>\n",
              "      <td>Mobile Phones</td>\n",
              "    </tr>\n",
              "    <tr>\n",
              "      <th>1</th>\n",
              "      <td>apple iphone 8 plus 64 gb spacegrau</td>\n",
              "      <td>Mobile Phones</td>\n",
              "    </tr>\n",
              "    <tr>\n",
              "      <th>2</th>\n",
              "      <td>apple mq8n2b/a iphone 8 plus 64gb 5.5 12mp sim...</td>\n",
              "      <td>Mobile Phones</td>\n",
              "    </tr>\n",
              "    <tr>\n",
              "      <th>3</th>\n",
              "      <td>apple iphone 8 plus 64gb space grey</td>\n",
              "      <td>Mobile Phones</td>\n",
              "    </tr>\n",
              "    <tr>\n",
              "      <th>4</th>\n",
              "      <td>apple iphone 8 plus gold 5.5 64gb 4g unlocked ...</td>\n",
              "      <td>Mobile Phones</td>\n",
              "    </tr>\n",
              "    <tr>\n",
              "      <th>5</th>\n",
              "      <td>apple iphone 8 plus gold 5.5 64gb 4g unlocked ...</td>\n",
              "      <td>Mobile Phones</td>\n",
              "    </tr>\n",
              "    <tr>\n",
              "      <th>6</th>\n",
              "      <td>apple iphone 8 plus 64 gb space grey</td>\n",
              "      <td>Mobile Phones</td>\n",
              "    </tr>\n",
              "    <tr>\n",
              "      <th>7</th>\n",
              "      <td>apple iphone 8 plus 64gb space grey</td>\n",
              "      <td>Mobile Phones</td>\n",
              "    </tr>\n",
              "    <tr>\n",
              "      <th>8</th>\n",
              "      <td>apple iphone 8 plus 64gb space grey</td>\n",
              "      <td>Mobile Phones</td>\n",
              "    </tr>\n",
              "    <tr>\n",
              "      <th>9</th>\n",
              "      <td>apple iphone 8 plus 64gb space grey</td>\n",
              "      <td>Mobile Phones</td>\n",
              "    </tr>\n",
              "    <tr>\n",
              "      <th>10</th>\n",
              "      <td>apple iphone 8 plus 5.5 single sim 4g 64gb silver</td>\n",
              "      <td>Mobile Phones</td>\n",
              "    </tr>\n",
              "    <tr>\n",
              "      <th>11</th>\n",
              "      <td>sim free iphone 8 plus 64gb by apple space grey</td>\n",
              "      <td>Mobile Phones</td>\n",
              "    </tr>\n",
              "    <tr>\n",
              "      <th>12</th>\n",
              "      <td>apple iphone 8 plus 64gb gold smartphone</td>\n",
              "      <td>Mobile Phones</td>\n",
              "    </tr>\n",
              "    <tr>\n",
              "      <th>13</th>\n",
              "      <td>apple iphone 8 plus 5.5 single sim 4g 64gb grey</td>\n",
              "      <td>Mobile Phones</td>\n",
              "    </tr>\n",
              "    <tr>\n",
              "      <th>14</th>\n",
              "      <td>apple iphone 8 plus silver 5.5 64gb 4g unlocke...</td>\n",
              "      <td>Mobile Phones</td>\n",
              "    </tr>\n",
              "    <tr>\n",
              "      <th>15</th>\n",
              "      <td>apple iphone 8 plus 64 gb silver</td>\n",
              "      <td>Mobile Phones</td>\n",
              "    </tr>\n",
              "    <tr>\n",
              "      <th>16</th>\n",
              "      <td>apple iphone 8 plus 64gb silver unlocked</td>\n",
              "      <td>Mobile Phones</td>\n",
              "    </tr>\n",
              "    <tr>\n",
              "      <th>17</th>\n",
              "      <td>apple iphone 8 plus 14 cm 5.5 64 gb 12 mp ios ...</td>\n",
              "      <td>Mobile Phones</td>\n",
              "    </tr>\n",
              "    <tr>\n",
              "      <th>18</th>\n",
              "      <td>iphone 8 plus sim free water dust resistant 64...</td>\n",
              "      <td>Mobile Phones</td>\n",
              "    </tr>\n",
              "    <tr>\n",
              "      <th>19</th>\n",
              "      <td>iphone 8 plus 64gb space grey</td>\n",
              "      <td>Mobile Phones</td>\n",
              "    </tr>\n",
              "  </tbody>\n",
              "</table>\n",
              "</div>\n",
              "    <div class=\"colab-df-buttons\">\n",
              "\n",
              "  <div class=\"colab-df-container\">\n",
              "    <button class=\"colab-df-convert\" onclick=\"convertToInteractive('df-42be88ab-1b06-419e-b3e7-2f0df2aaffc4')\"\n",
              "            title=\"Convert this dataframe to an interactive table.\"\n",
              "            style=\"display:none;\">\n",
              "\n",
              "  <svg xmlns=\"http://www.w3.org/2000/svg\" height=\"24px\" viewBox=\"0 -960 960 960\">\n",
              "    <path d=\"M120-120v-720h720v720H120Zm60-500h600v-160H180v160Zm220 220h160v-160H400v160Zm0 220h160v-160H400v160ZM180-400h160v-160H180v160Zm440 0h160v-160H620v160ZM180-180h160v-160H180v160Zm440 0h160v-160H620v160Z\"/>\n",
              "  </svg>\n",
              "    </button>\n",
              "\n",
              "  <style>\n",
              "    .colab-df-container {\n",
              "      display:flex;\n",
              "      gap: 12px;\n",
              "    }\n",
              "\n",
              "    .colab-df-convert {\n",
              "      background-color: #E8F0FE;\n",
              "      border: none;\n",
              "      border-radius: 50%;\n",
              "      cursor: pointer;\n",
              "      display: none;\n",
              "      fill: #1967D2;\n",
              "      height: 32px;\n",
              "      padding: 0 0 0 0;\n",
              "      width: 32px;\n",
              "    }\n",
              "\n",
              "    .colab-df-convert:hover {\n",
              "      background-color: #E2EBFA;\n",
              "      box-shadow: 0px 1px 2px rgba(60, 64, 67, 0.3), 0px 1px 3px 1px rgba(60, 64, 67, 0.15);\n",
              "      fill: #174EA6;\n",
              "    }\n",
              "\n",
              "    .colab-df-buttons div {\n",
              "      margin-bottom: 4px;\n",
              "    }\n",
              "\n",
              "    [theme=dark] .colab-df-convert {\n",
              "      background-color: #3B4455;\n",
              "      fill: #D2E3FC;\n",
              "    }\n",
              "\n",
              "    [theme=dark] .colab-df-convert:hover {\n",
              "      background-color: #434B5C;\n",
              "      box-shadow: 0px 1px 3px 1px rgba(0, 0, 0, 0.15);\n",
              "      filter: drop-shadow(0px 1px 2px rgba(0, 0, 0, 0.3));\n",
              "      fill: #FFFFFF;\n",
              "    }\n",
              "  </style>\n",
              "\n",
              "    <script>\n",
              "      const buttonEl =\n",
              "        document.querySelector('#df-42be88ab-1b06-419e-b3e7-2f0df2aaffc4 button.colab-df-convert');\n",
              "      buttonEl.style.display =\n",
              "        google.colab.kernel.accessAllowed ? 'block' : 'none';\n",
              "\n",
              "      async function convertToInteractive(key) {\n",
              "        const element = document.querySelector('#df-42be88ab-1b06-419e-b3e7-2f0df2aaffc4');\n",
              "        const dataTable =\n",
              "          await google.colab.kernel.invokeFunction('convertToInteractive',\n",
              "                                                    [key], {});\n",
              "        if (!dataTable) return;\n",
              "\n",
              "        const docLinkHtml = 'Like what you see? Visit the ' +\n",
              "          '<a target=\"_blank\" href=https://colab.research.google.com/notebooks/data_table.ipynb>data table notebook</a>'\n",
              "          + ' to learn more about interactive tables.';\n",
              "        element.innerHTML = '';\n",
              "        dataTable['output_type'] = 'display_data';\n",
              "        await google.colab.output.renderOutput(dataTable, element);\n",
              "        const docLink = document.createElement('div');\n",
              "        docLink.innerHTML = docLinkHtml;\n",
              "        element.appendChild(docLink);\n",
              "      }\n",
              "    </script>\n",
              "  </div>\n",
              "\n",
              "\n",
              "    <div id=\"df-e5f36b53-0913-488d-8887-e34730bfec9b\">\n",
              "      <button class=\"colab-df-quickchart\" onclick=\"quickchart('df-e5f36b53-0913-488d-8887-e34730bfec9b')\"\n",
              "                title=\"Suggest charts\"\n",
              "                style=\"display:none;\">\n",
              "\n",
              "<svg xmlns=\"http://www.w3.org/2000/svg\" height=\"24px\"viewBox=\"0 0 24 24\"\n",
              "     width=\"24px\">\n",
              "    <g>\n",
              "        <path d=\"M19 3H5c-1.1 0-2 .9-2 2v14c0 1.1.9 2 2 2h14c1.1 0 2-.9 2-2V5c0-1.1-.9-2-2-2zM9 17H7v-7h2v7zm4 0h-2V7h2v10zm4 0h-2v-4h2v4z\"/>\n",
              "    </g>\n",
              "</svg>\n",
              "      </button>\n",
              "\n",
              "<style>\n",
              "  .colab-df-quickchart {\n",
              "      --bg-color: #E8F0FE;\n",
              "      --fill-color: #1967D2;\n",
              "      --hover-bg-color: #E2EBFA;\n",
              "      --hover-fill-color: #174EA6;\n",
              "      --disabled-fill-color: #AAA;\n",
              "      --disabled-bg-color: #DDD;\n",
              "  }\n",
              "\n",
              "  [theme=dark] .colab-df-quickchart {\n",
              "      --bg-color: #3B4455;\n",
              "      --fill-color: #D2E3FC;\n",
              "      --hover-bg-color: #434B5C;\n",
              "      --hover-fill-color: #FFFFFF;\n",
              "      --disabled-bg-color: #3B4455;\n",
              "      --disabled-fill-color: #666;\n",
              "  }\n",
              "\n",
              "  .colab-df-quickchart {\n",
              "    background-color: var(--bg-color);\n",
              "    border: none;\n",
              "    border-radius: 50%;\n",
              "    cursor: pointer;\n",
              "    display: none;\n",
              "    fill: var(--fill-color);\n",
              "    height: 32px;\n",
              "    padding: 0;\n",
              "    width: 32px;\n",
              "  }\n",
              "\n",
              "  .colab-df-quickchart:hover {\n",
              "    background-color: var(--hover-bg-color);\n",
              "    box-shadow: 0 1px 2px rgba(60, 64, 67, 0.3), 0 1px 3px 1px rgba(60, 64, 67, 0.15);\n",
              "    fill: var(--button-hover-fill-color);\n",
              "  }\n",
              "\n",
              "  .colab-df-quickchart-complete:disabled,\n",
              "  .colab-df-quickchart-complete:disabled:hover {\n",
              "    background-color: var(--disabled-bg-color);\n",
              "    fill: var(--disabled-fill-color);\n",
              "    box-shadow: none;\n",
              "  }\n",
              "\n",
              "  .colab-df-spinner {\n",
              "    border: 2px solid var(--fill-color);\n",
              "    border-color: transparent;\n",
              "    border-bottom-color: var(--fill-color);\n",
              "    animation:\n",
              "      spin 1s steps(1) infinite;\n",
              "  }\n",
              "\n",
              "  @keyframes spin {\n",
              "    0% {\n",
              "      border-color: transparent;\n",
              "      border-bottom-color: var(--fill-color);\n",
              "      border-left-color: var(--fill-color);\n",
              "    }\n",
              "    20% {\n",
              "      border-color: transparent;\n",
              "      border-left-color: var(--fill-color);\n",
              "      border-top-color: var(--fill-color);\n",
              "    }\n",
              "    30% {\n",
              "      border-color: transparent;\n",
              "      border-left-color: var(--fill-color);\n",
              "      border-top-color: var(--fill-color);\n",
              "      border-right-color: var(--fill-color);\n",
              "    }\n",
              "    40% {\n",
              "      border-color: transparent;\n",
              "      border-right-color: var(--fill-color);\n",
              "      border-top-color: var(--fill-color);\n",
              "    }\n",
              "    60% {\n",
              "      border-color: transparent;\n",
              "      border-right-color: var(--fill-color);\n",
              "    }\n",
              "    80% {\n",
              "      border-color: transparent;\n",
              "      border-right-color: var(--fill-color);\n",
              "      border-bottom-color: var(--fill-color);\n",
              "    }\n",
              "    90% {\n",
              "      border-color: transparent;\n",
              "      border-bottom-color: var(--fill-color);\n",
              "    }\n",
              "  }\n",
              "</style>\n",
              "\n",
              "      <script>\n",
              "        async function quickchart(key) {\n",
              "          const quickchartButtonEl =\n",
              "            document.querySelector('#' + key + ' button');\n",
              "          quickchartButtonEl.disabled = true;  // To prevent multiple clicks.\n",
              "          quickchartButtonEl.classList.add('colab-df-spinner');\n",
              "          try {\n",
              "            const charts = await google.colab.kernel.invokeFunction(\n",
              "                'suggestCharts', [key], {});\n",
              "          } catch (error) {\n",
              "            console.error('Error during call to suggestCharts:', error);\n",
              "          }\n",
              "          quickchartButtonEl.classList.remove('colab-df-spinner');\n",
              "          quickchartButtonEl.classList.add('colab-df-quickchart-complete');\n",
              "        }\n",
              "        (() => {\n",
              "          let quickchartButtonEl =\n",
              "            document.querySelector('#df-e5f36b53-0913-488d-8887-e34730bfec9b button');\n",
              "          quickchartButtonEl.style.display =\n",
              "            google.colab.kernel.accessAllowed ? 'block' : 'none';\n",
              "        })();\n",
              "      </script>\n",
              "    </div>\n",
              "\n",
              "    </div>\n",
              "  </div>\n"
            ],
            "application/vnd.google.colaboratory.intrinsic+json": {
              "type": "dataframe",
              "variable_name": "df_model",
              "summary": "{\n  \"name\": \"df_model\",\n  \"rows\": 34760,\n  \"fields\": [\n    {\n      \"column\": \"Product Title\",\n      \"properties\": {\n        \"dtype\": \"string\",\n        \"num_unique_values\": 30552,\n        \"samples\": [\n          \"amica fk321 3dfx fridge freezer 60cm a energy rating inox\",\n          \"gorenje gv61010\",\n          \"hotpoint rsaav22p.1 under counter fridge in white\"\n        ],\n        \"semantic_type\": \"\",\n        \"description\": \"\"\n      }\n    },\n    {\n      \"column\": \"Category Label\",\n      \"properties\": {\n        \"dtype\": \"category\",\n        \"num_unique_values\": 9,\n        \"samples\": [\n          \"Freezers\",\n          \"Tvs\",\n          \"Dishwashers\"\n        ],\n        \"semantic_type\": \"\",\n        \"description\": \"\"\n      }\n    }\n  ]\n}"
            }
          },
          "metadata": {},
          "execution_count": 21
        }
      ]
    },
    {
      "cell_type": "markdown",
      "source": [
        "## Creating a new feature - review length\n",
        "We will now create a new numeric feature called review_length that represents the number of characters in each review.\n",
        "\n",
        "Then we'll visualize how review length varies across different sentiment categories."
      ],
      "metadata": {
        "id": "xj_PI_tmZT5y"
      }
    }
  ]
}