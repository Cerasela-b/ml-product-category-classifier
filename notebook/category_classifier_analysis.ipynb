{
  "nbformat": 4,
  "nbformat_minor": 0,
  "metadata": {
    "colab": {
      "provenance": [],
      "authorship_tag": "ABX9TyOz4i3nbD3o8jg51vfmuDaz",
      "include_colab_link": true
    },
    "kernelspec": {
      "name": "python3",
      "display_name": "Python 3"
    },
    "language_info": {
      "name": "python"
    }
  },
  "cells": [
    {
      "cell_type": "markdown",
      "metadata": {
        "id": "view-in-github",
        "colab_type": "text"
      },
      "source": [
        "<a href=\"https://colab.research.google.com/github/Cerasela-b/ml-product-category-classifier/blob/main/notebook/category_classifier_analysis.ipynb\" target=\"_parent\"><img src=\"https://colab.research.google.com/assets/colab-badge.svg\" alt=\"Open In Colab\"/></a>"
      ]
    },
    {
      "cell_type": "markdown",
      "source": [
        "## Loading and Inspecting the Dataset\n",
        "\n",
        "In order to understand the data we need to explore its structure.\n",
        "\n",
        "In this step, we will:\n",
        "\n",
        "- Load the CSV file from the available source GitHub\n",
        "\n",
        "- Check how many rows and columns the dataset contains\n",
        "\n",
        "- Display the first few rows to get an initial view of the data\n",
        "\n",
        "- Review the data types and basic metadata for each column"
      ],
      "metadata": {
        "id": "QgQM7IRNG_Va"
      }
    },
    {
      "cell_type": "code",
      "source": [
        "import pandas as pd\n",
        "\n",
        "# load dataset from GitHub\n",
        "url = \"https://raw.githubusercontent.com/Cerasela-b/ml-product-category-classifier/main/data/products.csv\"\n",
        "df = pd.read_csv(url)\n",
        "\n",
        "# Print shape (number of rows and columns)\n",
        "print(\"Dataset shape (rows, columns):\", df.shape)\n",
        "\n",
        "print(\"\\nFirst 5 rows:\")\n",
        "print(df.head())\n",
        "\n",
        "# Show column data types and non-null counts\n",
        "print(\"\\nDataset info:\")\n",
        "df.info()"
      ],
      "metadata": {
        "colab": {
          "base_uri": "https://localhost:8080/"
        },
        "id": "TSmechNSHq8Q",
        "outputId": "399f79f8-f16c-469c-fbec-8d6d6ef4c6a9"
      },
      "execution_count": 2,
      "outputs": [
        {
          "output_type": "stream",
          "name": "stdout",
          "text": [
            "Dataset shape (rows, columns): (35311, 8)\n",
            "\n",
            "First 5 rows:\n",
            "   product ID                                      Product Title  Merchant ID  \\\n",
            "0           1                    apple iphone 8 plus 64gb silver            1   \n",
            "1           2                apple iphone 8 plus 64 gb spacegrau            2   \n",
            "2           3  apple mq8n2b/a iphone 8 plus 64gb 5.5 12mp sim...            3   \n",
            "3           4                apple iphone 8 plus 64gb space grey            4   \n",
            "4           5  apple iphone 8 plus gold 5.5 64gb 4g unlocked ...            5   \n",
            "\n",
            "   Category Label _Product Code  Number_of_Views  Merchant Rating  \\\n",
            "0   Mobile Phones    QA-2276-XC            860.0              2.5   \n",
            "1   Mobile Phones    KA-2501-QO           3772.0              4.8   \n",
            "2   Mobile Phones    FP-8086-IE           3092.0              3.9   \n",
            "3   Mobile Phones    YI-0086-US            466.0              3.4   \n",
            "4   Mobile Phones    NZ-3586-WP           4426.0              1.6   \n",
            "\n",
            "   Listing Date    \n",
            "0       5/10/2024  \n",
            "1      12/31/2024  \n",
            "2      11/10/2024  \n",
            "3        5/2/2022  \n",
            "4       4/12/2023  \n",
            "\n",
            "Dataset info:\n",
            "<class 'pandas.core.frame.DataFrame'>\n",
            "RangeIndex: 35311 entries, 0 to 35310\n",
            "Data columns (total 8 columns):\n",
            " #   Column           Non-Null Count  Dtype  \n",
            "---  ------           --------------  -----  \n",
            " 0   product ID       35311 non-null  int64  \n",
            " 1   Product Title    35139 non-null  object \n",
            " 2   Merchant ID      35311 non-null  int64  \n",
            " 3    Category Label  35267 non-null  object \n",
            " 4   _Product Code    35216 non-null  object \n",
            " 5   Number_of_Views  35297 non-null  float64\n",
            " 6   Merchant Rating  35141 non-null  float64\n",
            " 7    Listing Date    35252 non-null  object \n",
            "dtypes: float64(2), int64(2), object(4)\n",
            "memory usage: 2.2+ MB\n"
          ]
        }
      ]
    }
  ]
}